{
 "cells": [
  {
   "cell_type": "markdown",
   "metadata": {},
   "source": [
    "Peining Che, Gregory Pataky; CSE627, Miami University"
   ]
  },
  {
   "cell_type": "markdown",
   "metadata": {},
   "source": [
    "   # I. Preliminary data mining with Orange"
   ]
  },
  {
   "cell_type": "markdown",
   "metadata": {},
   "source": [
    "[Orange](https://orange.biolab.si/) is a Python library and GUI that allows easy data visualization and machine learning. We have used the Orange Canvas GUI tool to play with the data and will provide screenshots of our setup. \n",
    "\n",
    "We are using [Anaconda](https://www.anaconda.com/what-is-anaconda/) for Python package and environment management set up with the basic packages and a development version of [Orange 3](https://github.com/biolab/orange3/tree/nn-widget) that was built from source from a branch which included a neural networks model widget."
   ]
  },
  {
   "cell_type": "markdown",
   "metadata": {},
   "source": [
    "## A. Visualizing Data"
   ]
  },
  {
   "cell_type": "markdown",
   "metadata": {},
   "source": [
    "By connecting a \"Scatter Plot\" widget to the \"File\" widget, we can visualize 2D slices of the data. Orange makes data visualization much easier than manually creating charts or graphs in R or Python.\n",
    "\n",
    "![Fig 34: Data Visualization in Orange](screenshots/img34.png)\n",
    "\n",
    "We can easily see how the selected axes affect survivability (where blue circles mean death and red x's mean survived). Orange also features a tool called \"Find Informative Projections\" that will find meaningful 2D slices of the data to better get a sense of it.\n",
    "\n",
    "![Fig 35: Find Informative Projections](screenshots/img35.png)"
   ]
  },
  {
   "cell_type": "markdown",
   "metadata": {},
   "source": [
    "## B. Finding Best Classifier"
   ]
  },
  {
   "cell_type": "markdown",
   "metadata": {},
   "source": [
    "We loaded the provided [training data](https://www.kaggle.com/c/titanic/data) into Orange Canvas and set up a \"Test & Score\" widget with a range of classifiers. This allowed us to quickly compare models on the data set without having to spend too much time configuring each classifier manually.\n",
    "\n",
    "### Important\n",
    "Make sure to set the seed on the models so changes in features/parameters reflect actual changes in prediction ability and not different random choices."
   ]
  },
  {
   "cell_type": "markdown",
   "metadata": {},
   "source": [
    "![Fig 1: Orange Canvas Screenshot showing all classifiers](screenshots/img1.png)\n",
    "![Fig 2: Orange Canvas \"Test & Score\" Results](screenshots/img2.png)"
   ]
  },
  {
   "cell_type": "markdown",
   "metadata": {},
   "source": [
    "For this dataset:\n",
    "- Classification Accuracy is the actual number of survivors over all survivors predicted.\n",
    "- Precision can be thought of as how accurate predictions are: the number of correct survivor predictions over the total classified as survivors (including correct and false positives).\n",
    "- Recall can be thought of as how complete predictions are: the number of correct survivor predictions over the total amount of actual survivors (including correct and false negatives).\n",
    "- F1 score is a measure of accuracy by combining precision and recall.\n",
    "\n",
    "From these results, we see that a \"Random Forest\" model has the best Classification Accuracy (CA) and Precision along with second-best Recall leading to the best F1 score. \n",
    "\n",
    "For more information on what these metrics mean visit: [Test & Score - Orange Visual Programming 3 Documentation](https://docs.orange.biolab.si/3/visual-programming/widgets/evaluation/testandscore.html)."
   ]
  },
  {
   "cell_type": "markdown",
   "metadata": {},
   "source": [
    "We now only focus on best five models as ranked here: \"Random Forest,\" \"Neurel Network,\" and \"Stochastic Gradient Descent.\" As we create features, we will continue to analyze the effectiveness of each model.\n",
    "\n",
    "![Fig 3: Orange Canvas with reduced classifiers](screenshots/img3.png)"
   ]
  },
  {
   "cell_type": "markdown",
   "metadata": {},
   "source": [
    "## C. Data Cleaning"
   ]
  },
  {
   "cell_type": "markdown",
   "metadata": {},
   "source": [
    "First, we need to finish setting up a data mining workflow in Orange to help us more easily manipulate the data.\n",
    "\n",
    "Workflows are used in a variety of data analytics libraries and applications and Orange Canvas provides a simple introduction to them.\n",
    "\n",
    "We are going to add Orange widgets to allow for preprocessing of data and manual feature creation. We run the results of our \"Feature Construction\" through a \"Rank\" widget to be able to easily visualize which features are the most beneficial to prediction (more on that later).\n",
    "\n",
    "We also added a \"Data Table\" widget that allows us to see all of the data and our new features side-by-side. This is helpfult o make sure features are being created as intended. The \"Data Table\" widget also gives helpful information about the data's target variable(s) and how much missing values exist.\n",
    "\n",
    "We are then going to connect those widgets in a chain to the \"Test & Score\" widget to see how our changes impact the model accuracies in \"real time\" (or as long as it takes to re-score all models).\n",
    "\n",
    "![Fig 4: Orange Canvas with Workflow](screenshots/img4.png)"
   ]
  },
  {
   "cell_type": "markdown",
   "metadata": {},
   "source": [
    "For preprocessing, we need to look at the data and see if there is anything that needs fixing. We created a script that would give us some insights into missing data values and put it in a \"Python Script\" module named \"Find missing values.\"\n",
    "\n",
    "![Fig 5: Orange Canvas Showing Python Script widget](screenshots/img5.png)\n",
    "![Fig 6: Python Script Widget](screenshots/img6.png)"
   ]
  },
  {
   "cell_type": "markdown",
   "metadata": {},
   "source": [
    "From what we can see in the output above, there is data missing in the \"Age\" column and the \"Embarked\" column. Our options to fill in the missing data are to remove the rows, replace the missing values with random values, or replace the missing values with averages or most frequence. \n",
    "\n",
    "Because there are around 180 rows of missing data and we were only given 891 rows, deleting the rows would drop roughly 20% of the training data. Adding random values may increase noise more than we would like, but the same can be said for putting in averages. We chose, however, to fill in the missing values with the average of the column. This makes sense in the continuous \"Age\" column, but makes less sense for the \"Embarked\" column where there are only three possibilities. However, \"Embarked\" only has two missing values so these replacements hsould be little more than slight noise."
   ]
  },
  {
   "cell_type": "markdown",
   "metadata": {},
   "source": [
    "In the \"Preprocess\" widget, we set up a filter for missing values to be replaced by their column average or most frequent value.\n",
    "\n",
    "![Fig 7: Preprocess widget configuration](screenshots/img7.png)"
   ]
  },
  {
   "cell_type": "markdown",
   "metadata": {},
   "source": [
    "This change seemed to average out the posisble models slightly, with \"Random Forest\" slightly losing F1 accuracy and the other two gaining slightly.\n",
    "\n",
    "![Fig 8: Orange \"Test & Score\" After Cleaning Data](screenshots/img8.png)"
   ]
  },
  {
   "cell_type": "markdown",
   "metadata": {},
   "source": [
    "## D. Feature Creation and Test"
   ]
  },
  {
   "cell_type": "markdown",
   "metadata": {},
   "source": [
    "We are already able to make some pretty good predictions based on what the \"Test & Score\" widget is telling us, but we may be able to improve it by creating some features from the provided metadata.\n",
    "\n",
    "The metadata fields provided are \"Name,\" \"Ticket,\" and \"Cabin.\" We can most likely pull some useful information out of these. In addition, since we are using the non-linear \"Random Forest\" model, it may be beneficial to manually pool some liner combinations of features together."
   ]
  },
  {
   "cell_type": "markdown",
   "metadata": {},
   "source": [
    "### i. New Features"
   ]
  },
  {
   "cell_type": "markdown",
   "metadata": {},
   "source": [
    "From the \"Name\" metadata, we will create two new features: a categorical \"Title\" feature representing the person's title (Mr., Master., Miss, Mrs.) and a continuous \"NameLength\" feature representing the length of the \"Name\" metadata field. \n",
    "\n",
    "The \"Title\" field makes sense because it allows us to distinguish age and sex more effectively. It seems logical that children and women may be let first onto life boats, and these can be distinguished with titles like \"Master\" (used for boys at the time), \"Miss,\" and \"Mrs.\"\n",
    "\n",
    "We wrote a script to find all of the titles used in the dataset.\n",
    "\n",
    "![Fig 9: Orange Canvas Title List Widget](screenshots/img9.png)\n",
    "![Fig 10: Script to List all Titles](screenshots/img10.png)\n",
    "\n",
    "The list of titles found was: 'Mr', 'Mrs', 'Miss', 'Master', 'Don', 'Rev', 'Dr', 'Mme', 'Ms', 'Major', 'Lady', 'Sir', 'Mlle', 'Col', 'Capt', 'Countess', 'Jonkheer'. \n",
    "Some quick Google searches yield a breakdown of:\n",
    "- Mr (Men)\n",
    "  - Mr, Rev, Dr, Major, Col, Capt\n",
    "- Mrs (Women)\n",
    "  - Mrs, Dr, Mme\n",
    "- Miss (Girls)\n",
    "  - Miss, Ms, Mlle\n",
    "- Master (Boys)\n",
    "  - Master\n",
    "- Royal (Male)\n",
    "  - Don, Sir, Jonkheer\n",
    "- Royal (Female)\n",
    "  - Lady, Countess\n",
    "  \n",
    "Due to the nature of this feature, we will use another \"Python Script\" widget to take in the input data and create a new column for a person's title. In order to merge this in with our other features created through the \"Feture Creation\" widget, we must also create a \"Merge Data\" widget.\n",
    "\n",
    "![Fig 11: Orange Canvas New Python Script Widget](screenshots/img11.png)\n",
    "![Fig 12: Command to create new Orange Data Table for Title](screenshots/img12.png)\n",
    "\n",
    "It is important to note that the \"Python Script\" widget has special named variables that can be used for input and output, and that these must obey special type rules. Read more about these here: [Orange Python Script Widget](https://docs.orange.biolab.si/3/visual-programming/widgets/data/pythonscript.html). We had some issues with scripts saving in Orange's project file, so be sure to save your scripts manually to be able to easily reset them if anything goes wrong."
   ]
  },
  {
   "cell_type": "markdown",
   "metadata": {},
   "source": [
    "The \"NameLen\" field is something we wanted to specifically look at and see if it gave any useful information. Because we are just playing with data and models, and can easily disable a feature, it does not make much difference to our eventual solution to try things out.\n",
    "\n",
    "It is simple enough logic to be included in the \"Feature Constructor.\"\n",
    "![Fig 13: Feture Construction Screenshot](screenshots/img13.png)"
   ]
  },
  {
   "cell_type": "markdown",
   "metadata": {},
   "source": [
    "We are given two features \"SibSp,\" which is the number of siblings and spouses on the ship, and \"Parch,\" which stands for the number of parents and children aboard the ship. These two features seem closely related and it seems possible that the total number of family may matter more than the type of family. \n",
    "\n",
    "Because of Orange, we can quickly prototype this feature and test it out to see how it affects our models.\n",
    "\n",
    "To test our hypothesis, we created a simple feature in the \"Feature Construction\" widget that would add \"SibSp\" and \"Parch\" together to create \"FamilySize.\"\n",
    "![Fig 14: ](screenshots/img15.png)\n",
    "\n",
    "The \"Test & Score\" results with \"SibSp\" and \"Parch\":\n",
    "![Fig 15: ](screenshots/img16.png)\n",
    "\n",
    "The \"Test & Score\" results with \"FamilySize\":\n",
    "![Fig 16: ](screenshots/img17.png)\n",
    "\n",
    "From these results, it seems that our models fare better with the \"FamilySize\" feature rather than the other two so we will keep it."
   ]
  },
  {
   "cell_type": "markdown",
   "metadata": {},
   "source": [
    "Finally, we created a \"TicketNum\" feature that extracts the numeric portion of \"Ticket\" and store sit in a continuous column. We again used a \"Python Script\" widget to do the data extraction due to the multistep process to parse and clean the \"Ticket\" data. Because of this, we had to include another \"Merge\" widget to get all of the data together in  on output. Because our script fails to parse every single ticket value, we also added another \"Preprocess\" widget that replaces missing values with the column average.\n",
    "\n",
    "![Fig 18: Orange Canvas with Add TicketNum Feature](screenshots/img18.png)\n",
    "\n",
    "The script we used:\n",
    "![Fig 19: Add TicketNum Feature Script](screenshots/img19.png)"
   ]
  },
  {
   "cell_type": "markdown",
   "metadata": {},
   "source": [
    "The final results from feature creation are shown here:\n",
    "![Fig 20: REsults of Feature Creation](screenshots/img20.png)"
   ]
  },
  {
   "cell_type": "markdown",
   "metadata": {},
   "source": [
    "#### Notes"
   ]
  },
  {
   "cell_type": "markdown",
   "metadata": {},
   "source": [
    "We also looked at extracting a feature from the provided \"Cabin\" data but we found the original data was too sparse to really make the feature meaningful. It will appear in the \"Rank\" widget, but is just deselected to not affect our models."
   ]
  },
  {
   "cell_type": "markdown",
   "metadata": {},
   "source": [
    "### ii. Feature Selection"
   ]
  },
  {
   "cell_type": "markdown",
   "metadata": {},
   "source": [
    "We can then use the \"Rank\" widget we set up previously to figure out which features we should include for the final model. Every feature is selected except \"SibSp\" and \"Parch\" due to the combined \"FamilySize\" feature we created.\n",
    "\n",
    "![Fig 21: \"Rank\" widget before selection](screenshots/img21.png)\n",
    "\n",
    "Scoring Methods:\n",
    "- Information Gain is the expected amount of information that can be gathered from this feature in relation to the target variable(s).\n",
    "- Gain Ratio reduces possible information gain bias towards multiple classes. \n",
    "- Chi2 measures the dependence between the feature and the target.\n",
    "- ReliefF is the ability of a feature to distuinguish target classes on similar data rows.\n",
    "- FCBF stands for \"Fast Correlation Based Filter\" and identifies redundancy in pairs of features.\n",
    "More information can be found here: [Rank - Orange Visual Programming 3 documentation](https://docs.orange.biolab.si/3/visual-programming/widgets/data/rank.html).\n",
    "\n",
    "The power of Orange here is that we can simply select and deselect columns and see how the model output changes. We used the \"Rank\" metrics and some testing to figure out we should keep all features except \"SibSp,\" \"Parch,\" \"CabinLevel,\" and \"PassengerId\".\n",
    "\n",
    "![Fig 21B: \"Rank\" Widget after selection](screenshots/img21b.png)\n",
    "\n",
    "### Important\n",
    "Make sure to set the seed on the models so changes in features/parameters reflect actual changes in prediction ability and not different random seeds.\n",
    "\n",
    "\"Test & Score\" then displays:\n",
    "![Fig 22: Final Predictions for Selected Features](screenshots/img22.png)"
   ]
  },
  {
   "cell_type": "markdown",
   "metadata": {},
   "source": [
    "## E. Model Parameters"
   ]
  },
  {
   "cell_type": "markdown",
   "metadata": {},
   "source": [
    "Now that we have finalized the features to use, we can optmize the model parameters to try to squeeze out extra performance.\n",
    "\n",
    "For the \"Random Forest\" mode, we have choices for the number of trees, the number of attributes at each split, a fixed seed for the random generator, limited tree depth, and smallest trees to split. More information for each can be found at [Random Forest - Orange Visual Programming 3 Documentation](https://docs.orange.biolab.si/3/visual-programming/widgets/model/randomforest.html).\n",
    "\n",
    "For the \"Neural Network\" model, we have the choice of neurons per layer, activation function, solver function, alpha, and max iterations. Since this is an in-progress feature, there is not documentation for it yet. We also found that playing with these parameters did not seem to increase performance that much.\n",
    "\n",
    "The \"Stochastic Gradient Descent\" model has many parameters, but the \"Random Forest\" performance has pulled so far ahead that we did not spend much time trying to optimize it. Documentation can be found here: [Stochastic Gradient Descent - Orange VIsual Programming 3 Documentation](https://docs.orange.biolab.si/3/visual-programming/widgets/model/stochasticgradient.html)."
   ]
  },
  {
   "cell_type": "markdown",
   "metadata": {},
   "source": [
    "We were able to slightly improve the \"Random Forest\" model:\n",
    "![Fig 23: Final Model Score](screenshots/img23.png)"
   ]
  },
  {
   "cell_type": "markdown",
   "metadata": {},
   "source": [
    "## F. Boosting the Model"
   ]
  },
  {
   "cell_type": "markdown",
   "metadata": {},
   "source": [
    "Orange includes a model called \"AdaBoost\" that can take another model as a base and allows for the optimization of hidden parameters. Documentation is provided at [AdaBoost - Orange Visual Programming 3 documentation](https://docs.orange.biolab.si/3/visual-programming/widgets/model/adaboost.html).\n",
    "\n",
    "The \"AdaBoost\" model can be configured into our flow as shown:\n",
    "![Fig 24: \"AdaBoost\" Widget](screenshots/img24.png)\n",
    "\n",
    "With some parameter testing, we were able to boost F1 accuracy to 0.788. Precision improved to above \"Neurel Net\" levels while not losing too much Recall.\n",
    "![Fig 25: AdaBoost Test & Score](screenshots/img25.png)"
   ]
  },
  {
   "cell_type": "markdown",
   "metadata": {},
   "source": [
    "## G. Confusion Matrices"
   ]
  },
  {
   "cell_type": "markdown",
   "metadata": {},
   "source": [
    "Orange also has built-in support for Confusion Matrices and can generate them automatically from the results of the \"Test & Score\" widget. Documentation is here: [Confusion Matrix - Orange Visual Programming 3 documentation](https://docs.orange.biolab.si/3/visual-programming/widgets/evaluation/confusionmatrix.html).\n",
    "\n",
    "We can connect the widget as so:\n",
    "![Fig 28: Connecting \"Confusion Matrix\" Widget](screenshots/img28.png)"
   ]
  },
  {
   "cell_type": "markdown",
   "metadata": {},
   "source": [
    "We can then visualize the results of \"Test & Rank\" more easily and see the difference between Precision and Recall.\n",
    "![Fig 29: \"Confusion Matrix\" Widget](screenshots/img29.png)\n",
    "Our models tend to be more conservative and make few errors when classifying a person as survived, but tend to predict many false negatives. This is most likely because the dataset has more examples of people who died than survived so more death indications can be learned."
   ]
  },
  {
   "cell_type": "markdown",
   "metadata": {},
   "source": [
    "## H. Predicting outcomes for the test set"
   ]
  },
  {
   "cell_type": "markdown",
   "metadata": {},
   "source": [
    "We can also predict answers to the provided test.csv directly through Orange. Although it seems like our AdaBoosted Random Forest is classifying correctly, we need to see how it generalizes to some unknown test data.\n",
    "\n",
    "We first connect the imput file to every model. This will allow us to use models learned on the training data for making predictions on test data. \n",
    "\n",
    "![Fig 29B: Connecting Training Data to Models](screenshots/img29b.png)\n",
    "\n",
    "To recreate the feature construction for test data, we have to add a \"File\" widget referring to the test.csv from Kaggle. We have to create copies of each \"Python Script\" widget and the \"Feature Construction\" widget from the training data. It is helpful to save the \"Python Script\" code to file and import those into copies. The data then has to be merged together like with training using \"Merge\" widgets. We cannot use the \"Rank\" widget to select features this time because the test data has no inherent target. Instead, we use a \"Select Columns\" widget to do the same thing.\n",
    "\n",
    "![Fig 30: Connecting \"Predictions\" Widget](screenshots/img30.png)\n",
    "\n",
    "These predictions can be saved to a file using the \"Save Data\" widget. Before we do that, we can make is easier on ourselves to submit to Kaggle by having only the two columns Kaggle grades saved. To do that, we need to add back in the \"PassengerId\" column and rename the AdaBoost prediction to \"Survived.\" \n",
    "\n",
    "The workflow to do this is shown below:\n",
    "![Fig 31: Connecting \"Save Data\" Widget](screenshots/img31.png)"
   ]
  },
  {
   "cell_type": "markdown",
   "metadata": {},
   "source": [
    "## I. Prediction Results"
   ]
  },
  {
   "cell_type": "markdown",
   "metadata": {
    "collapsed": true
   },
   "source": [
    "We had to remove two meta colums from the output csv file and were then able to submit the results to Kaggle. Kaggle scored our submission with a 76.076% accuracy, which is not bad, but off from our \"Test & Score\" module prediction of a 84.7% classification accuracy or even a 78.8% accuracy from the F1 score.\n",
    "\n",
    "This underperformance could very well be due to overfitting of the training data to get high accuracies on train/validation sets but that do not give a good prediction for more general data. This is most likely due to using 20 folds, which leaves each to have a validation set of roughly 30 passengers and a RandomForest model that uses 14 trees to classify only 9 features.\n",
    "\n",
    "However, beacuse we're using Orange, we can easily just readjust all of these parameters and try again.\n",
    "\n",
    "We found the following parameters yield a 77.1% F1 accuracy in Orange, the highest we could find using 5 folds of the data, which was chosen because 891/5 is roughly half the size of the test.csv data and should thus be a better predictor for accuracy.\n",
    "\n",
    "![Fig 33: Readjusted Features](screenshots/img33.png)\n",
    "\n",
    "Kaggle scored the output of the AdaBoost model with a 77.990%."
   ]
  },
  {
   "cell_type": "markdown",
   "metadata": {},
   "source": [
    "# II. Pandas and SK-Learn Solution"
   ]
  },
  {
   "cell_type": "markdown",
   "metadata": {},
   "source": [
    "## A. Imports"
   ]
  },
  {
   "cell_type": "code",
   "execution_count": 1,
   "metadata": {
    "scrolled": true
   },
   "outputs": [],
   "source": [
    "# Python 3 Lib\n",
    "import functools\n",
    "import itertools\n",
    "import re\n",
    "from random import seed\n",
    "\n",
    "# 3rd Party\n",
    "import numpy as np\n",
    "import pandas as pd\n",
    "from scipy.stats import mode\n",
    "import matplotlib.pyplot as plt\n",
    "\n",
    "# Sklearn\n",
    "import sklearn.model_selection as sk_models\n",
    "from sklearn.ensemble import RandomForestClassifier, AdaBoostClassifier\n",
    "from sklearn.metrics import confusion_matrix, classification_report"
   ]
  },
  {
   "cell_type": "markdown",
   "metadata": {},
   "source": [
    "## B. Data Cleaning and Feature Extraction\n",
    "\n",
    "All of these function will take one Pandas DataFrame as input and return one Pandas DataFrame as output so they can be composted together. \n",
    "\n",
    "The goal at the end of this section will be to build a pipeline similar to Orange and run train and test through it once at the end.\n",
    "\n",
    "Since we have more power to play with the data using Pandas and underlying Sklern models, we can make more complex data cleaning methods and try to tune the models a little more than in Orange."
   ]
  },
  {
   "cell_type": "markdown",
   "metadata": {},
   "source": [
    "### i. Training Data\n",
    "\n",
    "We import the train.csv data into a Pandas DataFrame."
   ]
  },
  {
   "cell_type": "code",
   "execution_count": 2,
   "metadata": {
    "scrolled": true
   },
   "outputs": [
    {
     "name": "stdout",
     "output_type": "stream",
     "text": [
      "<class 'pandas.core.frame.DataFrame'>\n",
      "RangeIndex: 891 entries, 0 to 890\n",
      "Data columns (total 12 columns):\n",
      "PassengerId    891 non-null int64\n",
      "Survived       891 non-null int64\n",
      "Pclass         891 non-null int64\n",
      "Name           891 non-null object\n",
      "Sex            891 non-null object\n",
      "Age            714 non-null float64\n",
      "SibSp          891 non-null int64\n",
      "Parch          891 non-null int64\n",
      "Ticket         891 non-null object\n",
      "Fare           891 non-null float64\n",
      "Cabin          204 non-null object\n",
      "Embarked       889 non-null object\n",
      "dtypes: float64(2), int64(5), object(5)\n",
      "memory usage: 83.6+ KB\n"
     ]
    }
   ],
   "source": [
    "train = pd.read_csv('titanic_data/train.csv')\n",
    "train.info()"
   ]
  },
  {
   "cell_type": "markdown",
   "metadata": {},
   "source": [
    "There are some missing values for 'Age' and 'Embarked' that we will have to fill-in to use Sklearn, but we gathered as much from Orange. As we discovered in Orange, the 'Cabin' variable is most likely unsalvedgable unless we try to assign similar cabin decks to family members, but that is both assuming and out of the scope we set.\n",
    "\n",
    "Since 'Embarked' is missing only 1 value, we will replace it with the most frequent."
   ]
  },
  {
   "cell_type": "markdown",
   "metadata": {},
   "source": [
    "### ii. Test Data\n",
    "\n",
    "We import the test.csv data into a Pandas DataFrame."
   ]
  },
  {
   "cell_type": "code",
   "execution_count": 3,
   "metadata": {
    "scrolled": true
   },
   "outputs": [
    {
     "name": "stdout",
     "output_type": "stream",
     "text": [
      "<class 'pandas.core.frame.DataFrame'>\n",
      "RangeIndex: 418 entries, 0 to 417\n",
      "Data columns (total 11 columns):\n",
      "PassengerId    418 non-null int64\n",
      "Pclass         418 non-null int64\n",
      "Name           418 non-null object\n",
      "Sex            418 non-null object\n",
      "Age            332 non-null float64\n",
      "SibSp          418 non-null int64\n",
      "Parch          418 non-null int64\n",
      "Ticket         418 non-null object\n",
      "Fare           417 non-null float64\n",
      "Cabin          91 non-null object\n",
      "Embarked       418 non-null object\n",
      "dtypes: float64(2), int64(4), object(5)\n",
      "memory usage: 36.0+ KB\n"
     ]
    }
   ],
   "source": [
    "test = pd.read_csv('titanic_data/test.csv')\n",
    "passengerIds = test['PassengerId']\n",
    "test.info()"
   ]
  },
  {
   "cell_type": "markdown",
   "metadata": {},
   "source": [
    "We have issues with the 'Age' and 'Cabin' columns here too, with the addition of one missing value in 'Fare'.\n",
    "\n",
    "There is a dilemma with 'Age' now. 20% of 'Age' is missing in both the training and test data. We can try to fill in the column with the average age overall, but that would probably bias our results and lose some helpful information as it is likely that age played a factor in deciding who got onto life boats first. Instead, we will impute the average for the corresponding 'Title' for the row."
   ]
  },
  {
   "cell_type": "markdown",
   "metadata": {},
   "source": [
    "### iii. Cleaning Functions\n",
    "\n",
    "These functions will impute missing values and convert categorical data to numerical values."
   ]
  },
  {
   "cell_type": "code",
   "execution_count": 4,
   "metadata": {
    "collapsed": true
   },
   "outputs": [],
   "source": [
    "def fill_in_missing_age_values(df):\n",
    "    \"\"\"\n",
    "    Converts missing age values to the mean age of title holder.\n",
    "    \n",
    "    :param df: Pandas DataFrame to clean.\n",
    "    :returns: New Pandas DataFrame with missing vlaues replaced.\n",
    "    \"\"\"\n",
    "    \n",
    "    ret = df.copy()\n",
    "    for i, row in df.iterrows():\n",
    "        if pd.isnull(row['Age']):\n",
    "            ret.at[i, 'Age'] = ret.groupby('Title', as_index=False)['Age'].mean().iloc[row['Title']]['Age']\n",
    "    return ret"
   ]
  },
  {
   "cell_type": "code",
   "execution_count": 5,
   "metadata": {
    "collapsed": true,
    "scrolled": true
   },
   "outputs": [],
   "source": [
    "def fill_in_missing_values(df):\n",
    "    \"\"\"\n",
    "    Converts missing values to the mean or mode of the column.\n",
    "    \n",
    "    :param df: Pandas DataFrame to clean.\n",
    "    :returns: New Pandas DataFrame with missing valued of df replaced by mean (for numeric values) \n",
    "                or mode for the column (for any other type of value)\n",
    "    \"\"\"\n",
    "    \n",
    "    ret = df.copy()\n",
    "    for column in df:\n",
    "        df_c = df[column]\n",
    "        ret[column] = ret[column].fillna(ret[column].mean() if np.issubdtype(df_c.dtype, np.number) \n",
    "                                         else ret[column].value_counts().index[0])\n",
    "    return ret"
   ]
  },
  {
   "cell_type": "code",
   "execution_count": 6,
   "metadata": {
    "collapsed": true,
    "scrolled": true
   },
   "outputs": [],
   "source": [
    "def convert_values_to_numbers(df):\n",
    "    \"\"\"\n",
    "    Converts non-numeric values to numbers.\n",
    "    Be careful is possible values are missing in train that might be present \n",
    "    in test since this might not map the values the same.\n",
    "    \n",
    "    :param df: Pandas DataFrame to clean.\n",
    "    :returns: New Pandas DataFrame with converted values.\n",
    "    \"\"\"\n",
    "    \n",
    "    ret = df.copy()\n",
    "    for column in df:\n",
    "        df_c = df[column]\n",
    "        if not np.issubdtype(df_c.dtype, np.number):\n",
    "            vals = sorted(df_c.unique())\n",
    "            ret[column] = df_c.map({key: i for i, key in enumerate(vals)})\n",
    "    return ret"
   ]
  },
  {
   "cell_type": "markdown",
   "metadata": {},
   "source": [
    "### iv. Feature Creation\n",
    "\n",
    "We are going to recreate the features we made in Orange using the Pandas library and Python. These are all mostly self-explanatory and follow similar logic to their Orange implementations."
   ]
  },
  {
   "cell_type": "markdown",
   "metadata": {},
   "source": [
    "#### Title Feature"
   ]
  },
  {
   "cell_type": "code",
   "execution_count": 7,
   "metadata": {
    "collapsed": true,
    "scrolled": true
   },
   "outputs": [],
   "source": [
    "title_names = ['Mr', 'Mrs', 'Miss', 'Master', 'Royal (M)', 'Royal (F)']\n",
    "def add_title_feature(df):\n",
    "    \"\"\"\n",
    "    Creates Title feature based on Name column.\n",
    "    \n",
    "    :param df: Pandas DataFrame to edit.\n",
    "    :returns: New Pandas DataFrame with new feature.\n",
    "    \"\"\"\n",
    "    \n",
    "    def get_title(name, sex):\n",
    "        comma_ind = name.find(',')\n",
    "        dot_ind = name.find('.', comma_ind + 2)\n",
    "        title = name[comma_ind + 1:dot_ind].split(' ')[-1]\n",
    "        if title in ['Mr', 'Rev', 'Major', 'Col', 'Capt']:\n",
    "            title = 0\n",
    "        elif title in ['Mrs', 'Mme']:\n",
    "            title = 1\n",
    "        elif title in ['Miss', 'Ms', 'Mlle']:\n",
    "            title = 2\n",
    "        elif title in ['Master']:\n",
    "            title = 3\n",
    "        elif title in ['Don', 'Sir', 'Jonkheer']:\n",
    "            title = 0 # Royal (M) doesn't show up in test.csv, so we're setting this to just be Mr\n",
    "        elif title in ['Lady', 'Countess']:\n",
    "            title = 1 # Royal (F) doesn't show up in test.csv, so we're setting this to just be Mrs\n",
    "        else:\n",
    "            if sex == 'female':\n",
    "                title = 1\n",
    "            else:\n",
    "                title = 0\n",
    "        return title\n",
    "    ret = df.copy()\n",
    "    ret['Title'] = [get_title(name, sex) for name, sex in zip(df['Name'], df['Sex'])]\n",
    "    return ret"
   ]
  },
  {
   "cell_type": "markdown",
   "metadata": {},
   "source": [
    "#### NameLen Feature"
   ]
  },
  {
   "cell_type": "code",
   "execution_count": 8,
   "metadata": {
    "collapsed": true,
    "scrolled": true
   },
   "outputs": [],
   "source": [
    "def add_name_len_feature(df):\n",
    "    \"\"\"\n",
    "    Creates NameLen feature based on Name column.\n",
    "    \n",
    "    :param df: Pandas DataFrame to edit.\n",
    "    :returns: New Pandas DataFrame with new feature.\n",
    "    \"\"\"\n",
    "    \n",
    "    ret = df.copy()\n",
    "    ret['NameLen'] = [len(name) for name in df['Name']]\n",
    "    ret['NameLen'] = ret['NameLen'].astype(int)\n",
    "    return ret"
   ]
  },
  {
   "cell_type": "markdown",
   "metadata": {},
   "source": [
    "#### TicketNum Feature"
   ]
  },
  {
   "cell_type": "code",
   "execution_count": 9,
   "metadata": {
    "collapsed": true,
    "scrolled": true
   },
   "outputs": [],
   "source": [
    "def add_ticket_num_feature(df):\n",
    "    \"\"\"\n",
    "    Creates TicketNum feature based on Ticket column.\n",
    "    \n",
    "    :param df: Pandas DataFrame to edit.\n",
    "    :returns: New Pandas DataFrame with new feature.\n",
    "    \"\"\"\n",
    "    \n",
    "    def get_ticket_num(ticket):\n",
    "        num = ticket.split(' ')[-1]\n",
    "        digits_only = re.compile(r'\\D+')\n",
    "        num = digits_only.sub('', num)\n",
    "        return int(num) if len(num) > 0 else None\n",
    "    ret = df.copy()\n",
    "    ret['TicketNum'] = [get_ticket_num(ticket) for ticket in df['Ticket']]\n",
    "    return ret"
   ]
  },
  {
   "cell_type": "markdown",
   "metadata": {},
   "source": [
    "#### FamilySize Feature"
   ]
  },
  {
   "cell_type": "code",
   "execution_count": 10,
   "metadata": {
    "collapsed": true,
    "scrolled": true
   },
   "outputs": [],
   "source": [
    "def add_family_size_feature(df):\n",
    "    \"\"\"\n",
    "    Creates FamilySize feature based on SibSp and Parch columns.\n",
    "    \n",
    "    :param df: Pandas DataFrame to edit.\n",
    "    :returns: New Pandas DataFrame with new feature.\n",
    "    \"\"\"\n",
    "    \n",
    "    ret = df.copy()\n",
    "    ret['FamilySize'] = [sibsp + parch for sibsp, parch in zip(df['SibSp'], df['Parch'])]\n",
    "    return ret"
   ]
  },
  {
   "cell_type": "markdown",
   "metadata": {},
   "source": [
    "### v. Feature Selection\n",
    "Now we need a function to \"trim the fat\" off the data table to prepare it for fitting to our model. We follow the same logic we used with the \"Rank\" widget from Orange."
   ]
  },
  {
   "cell_type": "code",
   "execution_count": 11,
   "metadata": {
    "collapsed": true,
    "scrolled": true
   },
   "outputs": [],
   "source": [
    "def trim_data_table(df):\n",
    "    \"\"\"\n",
    "    Removes unnecessary columns from the DataFrame.\n",
    "    \n",
    "    :param df: Pandas DataFrame to edit.\n",
    "    :returns: New Pandas DataFrame with removed features.\n",
    "    \"\"\"\n",
    "    \n",
    "    return df.drop(['PassengerId', 'Parch', 'SibSp', 'Name', 'Cabin', 'Ticket'], axis=1)"
   ]
  },
  {
   "cell_type": "markdown",
   "metadata": {},
   "source": [
    "### vi. Composing Functions\n",
    "\n",
    "This is where the beauty of defining all previous functions as we did shows. We can create a 'pipeline' function that is the result of all functions being applied together. It takes a Pandas DataFrame and returns a new Pandas DataFrame that has all changes applied."
   ]
  },
  {
   "cell_type": "code",
   "execution_count": 12,
   "metadata": {
    "scrolled": true
   },
   "outputs": [],
   "source": [
    "def compose(*functions):\n",
    "    \"\"\"\n",
    "    :param functions: All functions to be composted.\n",
    "    :returns: One function that is the resuly of applying all functions together.\n",
    "    \"\"\"\n",
    "    \n",
    "    return functools.reduce(lambda f, g: lambda x: f(g(x)), functions, lambda x: x)\n",
    "\n",
    "pipeline = compose(convert_values_to_numbers,\n",
    "                   fill_in_missing_values,\n",
    "                   fill_in_missing_age_values,\n",
    "                   trim_data_table,\n",
    "                   add_family_size_feature,\n",
    "                   add_ticket_num_feature,\n",
    "                   add_name_len_feature,\n",
    "                   add_title_feature)"
   ]
  },
  {
   "cell_type": "code",
   "execution_count": 13,
   "metadata": {
    "scrolled": true
   },
   "outputs": [
    {
     "name": "stdout",
     "output_type": "stream",
     "text": [
      "<class 'pandas.core.frame.DataFrame'>\n",
      "RangeIndex: 891 entries, 0 to 890\n",
      "Data columns (total 10 columns):\n",
      "Survived      891 non-null int64\n",
      "Pclass        891 non-null int64\n",
      "Sex           891 non-null int64\n",
      "Age           891 non-null float64\n",
      "Fare          891 non-null float64\n",
      "Embarked      891 non-null int64\n",
      "Title         891 non-null int64\n",
      "NameLen       891 non-null int64\n",
      "TicketNum     891 non-null float64\n",
      "FamilySize    891 non-null int64\n",
      "dtypes: float64(3), int64(7)\n",
      "memory usage: 69.7 KB\n"
     ]
    }
   ],
   "source": [
    "train = pipeline(train)\n",
    "train.info()"
   ]
  },
  {
   "cell_type": "code",
   "execution_count": 14,
   "metadata": {
    "scrolled": true
   },
   "outputs": [
    {
     "name": "stdout",
     "output_type": "stream",
     "text": [
      "<class 'pandas.core.frame.DataFrame'>\n",
      "RangeIndex: 418 entries, 0 to 417\n",
      "Data columns (total 9 columns):\n",
      "Pclass        418 non-null int64\n",
      "Sex           418 non-null int64\n",
      "Age           418 non-null float64\n",
      "Fare          418 non-null float64\n",
      "Embarked      418 non-null int64\n",
      "Title         418 non-null int64\n",
      "NameLen       418 non-null int64\n",
      "TicketNum     418 non-null int64\n",
      "FamilySize    418 non-null int64\n",
      "dtypes: float64(2), int64(7)\n",
      "memory usage: 29.5 KB\n"
     ]
    }
   ],
   "source": [
    "test = pipeline(test)\n",
    "test.info()"
   ]
  },
  {
   "cell_type": "markdown",
   "metadata": {},
   "source": [
    "### vii. Checking Data Values\n",
    "\n",
    "While writing the function to fill age in with the average of it's 'Title,' we noticed that some values of 'Title' were not used in the test.csv file, so we might as edit the function to only use the values available in test to not train a redundant part of the model or risk overfitting our training data (the function would already be edited by here).\n",
    "\n",
    "This function should let us check if any values appear in train.csv but not in test.csv."
   ]
  },
  {
   "cell_type": "code",
   "execution_count": 15,
   "metadata": {
    "scrolled": false
   },
   "outputs": [
    {
     "name": "stdout",
     "output_type": "stream",
     "text": [
      "Pclass \n",
      "\tTrain.csv: [3 1 2] \n",
      "\tTest.csv: [3 2 1] \n",
      "\n",
      "Sex \n",
      "\tTrain.csv: [1 0] \n",
      "\tTest.csv: [1 0] \n",
      "\n",
      "Embarked \n",
      "\tTrain.csv: [2 0 1] \n",
      "\tTest.csv: [1 2 0] \n",
      "\n",
      "Title \n",
      "\tTrain.csv: [0 1 2 3] \n",
      "\tTest.csv: [0 1 2 3] \n",
      "\n",
      "NameLen \n",
      "\tTrain.csv: [23 51 22 44 24 16 30 49 35 31 27 36 32 20 28 55 21 29 57 19 46 34 56 40 17\n",
      " 25 45 26 50 13 15 33 18 52 47 38 37 41 14 42 39 82 48 54 43 67 65 53 61 12] \n",
      "\tTest.csv: [16 32 25 44 26 20 28 41 23 45 55 17 37 22 36 31 47 29 40 49 24 48 19 18 15\n",
      " 13 27 21 46 33 51 30 35 52 59 54 38 53 42 62 39 34 43 58 14 63] \n",
      "\n",
      "FamilySize \n",
      "\tTrain.csv: [ 1  0  4  2  6  5  3  7 10] \n",
      "\tTest.csv: [ 0  1  2  4  3  5  7  6 10] \n",
      "\n"
     ]
    }
   ],
   "source": [
    "for column in train:\n",
    "    if column not in ['Ticket', 'PassengerId', 'Name', 'Survived'] and str(train[column].dtype) != 'float64':\n",
    "        print(column, '\\n\\tTrain.csv:', train[column].unique(), '\\n\\tTest.csv:', test[column].unique(), '\\n')"
   ]
  },
  {
   "cell_type": "markdown",
   "metadata": {},
   "source": [
    "It looks like 'Title' was the only column that would really have need to be checked since the only other categorical columns are 'Pclass,' 'Sex,' and 'Embarked,' which are guaranteed by Kaggle to have the same values."
   ]
  },
  {
   "cell_type": "markdown",
   "metadata": {},
   "source": [
    "### viii. Data Visualization"
   ]
  },
  {
   "cell_type": "markdown",
   "metadata": {},
   "source": [
    "It would be helpful to see how these features affect survivability. We will do this by showing histograms of feature values and the percentage that died and survived from those groupings."
   ]
  },
  {
   "cell_type": "code",
   "execution_count": 16,
   "metadata": {
    "scrolled": false
   },
   "outputs": [
    {
     "data": {
      "image/png": "[encoded data removed]",
      "text/plain": [
       "<matplotlib.figure.Figure at 0x11a7d73c8>"
      ]
     },
     "metadata": {},
     "output_type": "display_data"
    },
    {
     "data": {
      "image/png": "[encoded data removed]",
      "text/plain": [
       "<matplotlib.figure.Figure at 0x11a786e10>"
      ]
     },
     "metadata": {},
     "output_type": "display_data"
    },
    {
     "data": {
      "image/png": "[encoded data removed]",
      "text/plain": [
       "<matplotlib.figure.Figure at 0x11a8e37f0>"
      ]
     },
     "metadata": {},
     "output_type": "display_data"
    },
    {
     "data": {
      "image/png": "[encoded data removed]",
      "text/plain": [
       "<matplotlib.figure.Figure at 0x11a7e3f60>"
      ]
     },
     "metadata": {},
     "output_type": "display_data"
    }
   ],
   "source": [
    "mask_survived = train['Survived'] == 1\n",
    "mask_died = train['Survived'] == 0\n",
    "\n",
    "bar_width = 0.35\n",
    "\n",
    "labels = {'Pclass': ['1st', '2nd', '3rd'], \n",
    "          'Sex': ['female', 'male'],                              # sort order would put 'f' before 'm'\n",
    "          'Embarked': ['Cherbourg', 'Queenstown', 'Southampton'], # sort order would put 'C' before 'Q' before 'S'\n",
    "          'Title':title_names}\n",
    "\n",
    "for column in train:\n",
    "    if column in ['Pclass', 'Sex', 'Embarked', 'Title']:\n",
    "        values = sorted(train[column].unique())\n",
    "        counts_died = []\n",
    "        counts_survived = []\n",
    "        for value in values:\n",
    "            counts_died.append(len(train[mask_died & (train[column] == value)]))\n",
    "            counts_survived.append(len(train[mask_survived & (train[column] == value)]))\n",
    "        \n",
    "        xs = np.arange(len(values))\n",
    "        bar1 = plt.bar(xs, counts_died, bar_width, align='center', color='r')\n",
    "        bar2 = plt.bar(xs + bar_width, counts_survived, bar_width, align='center', color='b')\n",
    "        plt.xticks(xs + bar_width / 2, labels[column])\n",
    "        plt.xlabel(column)\n",
    "        plt.ylabel('Count')\n",
    "        plt.title('Died / Survived vs ' + column)\n",
    "        plt.legend((bar1, bar2), ('Died', 'Survived'))\n",
    "        plt.show()"
   ]
  },
  {
   "cell_type": "markdown",
   "metadata": {},
   "source": [
    "From these graphs, we can see that all of our categorical features have some significance since different categories have different have different die/survive ratios. The created 'Title' feature is interesting since the four values have very different ratios, with 'Mrs' and 'Miss' having high surivive chances and 'Master' having about equal."
   ]
  },
  {
   "cell_type": "markdown",
   "metadata": {},
   "source": [
    "### ix. Splitting train into train + test and test into make_predictions\n",
    "\n",
    "We are going to make some tables and rename some others to split the train.csv into three sets:\n",
    "- *train*: Part of train.csv we will use to build our models\n",
    "- *test*: Part of train.csv we will use to predict how well our models will do\n",
    "- *make_predictions*: The whole of test.csv"
   ]
  },
  {
   "cell_type": "code",
   "execution_count": 17,
   "metadata": {
    "scrolled": true
   },
   "outputs": [],
   "source": [
    "# Used to 'fix' randomness of models while we change parameters\n",
    "seed(64)\n",
    "\n",
    "make_predictions = test\n",
    "train, test = sk_models.train_test_split(train, test_size=0.25)\n",
    "\n",
    "train_survived = train['Survived']\n",
    "train = train.drop('Survived', axis=1)\n",
    "\n",
    "test_survived = test['Survived']\n",
    "test = test.drop('Survived', axis=1)"
   ]
  },
  {
   "cell_type": "markdown",
   "metadata": {},
   "source": [
    "## B. Model Creation\n",
    "\n",
    "We use the values for fetures we found through Orange for these models. However, while looking through the documentation, we also saw that the RandomForestClassifier can take a 'class_weight' field an dused values for the class weights equal to the real proportion of people who died and survivied on the Titanic. AdaBoost also uses values we found thorugh Orange.\n",
    "\n",
    "We train each of them on the train set, which is 75% of the total train data. The holdout 25% will be used to esitmate our accuracy once we submit to Kaggle."
   ]
  },
  {
   "cell_type": "code",
   "execution_count": 18,
   "metadata": {
    "scrolled": true
   },
   "outputs": [],
   "source": [
    "rf = RandomForestClassifier(n_estimators=5, max_features=6, max_depth=11, min_samples_split=4,\n",
    "                            class_weight={0: 0.68, 1: 0.32})\n",
    "rf.fit(train, train_survived)\n",
    "\n",
    "boost = AdaBoostClassifier(base_estimator=rf, n_estimators=3, learning_rate=0.05)\n",
    "boost.fit(train, train_survived);"
   ]
  },
  {
   "cell_type": "markdown",
   "metadata": {},
   "source": [
    "## C. Model Accuracy and Error"
   ]
  },
  {
   "cell_type": "code",
   "execution_count": 19,
   "metadata": {
    "scrolled": true
   },
   "outputs": [],
   "source": [
    "def plot_confusion_matrix(cm, classes,\n",
    "                          normalize=False,\n",
    "                          title='Confusion matrix',\n",
    "                          cmap=plt.cm.Blues):\n",
    "    \"\"\"\n",
    "    Written by Dr. Femiani.\n",
    "    \n",
    "    This function prints and plots the confusion matrix.\n",
    "    Normalization can be applied by setting `normalize=True`.\n",
    "    \"\"\"\n",
    "    \n",
    "    if normalize:\n",
    "        cm = cm.astype('float') / cm.sum(axis=1)[:, np.newaxis]\n",
    "\n",
    "    plt.imshow(cm, interpolation='nearest', cmap=cmap)\n",
    "    plt.title(title)\n",
    "    plt.colorbar()\n",
    "    tick_marks = np.arange(len(classes))\n",
    "    plt.xticks(tick_marks, classes, rotation=45)\n",
    "    plt.yticks(tick_marks, classes)\n",
    "\n",
    "    fmt = '.2f' if normalize else 'd'\n",
    "    thresh = cm.max() / 2.\n",
    "    for i, j in itertools.product(range(cm.shape[0]), range(cm.shape[1])):\n",
    "        plt.text(j, i, format(cm[i, j], fmt),\n",
    "                 horizontalalignment=\"center\",\n",
    "                 color=\"white\" if cm[i, j] > thresh else \"black\")\n",
    "\n",
    "    plt.tight_layout()\n",
    "    plt.ylabel('True label')\n",
    "    plt.xlabel('Predicted label')"
   ]
  },
  {
   "cell_type": "code",
   "execution_count": 20,
   "metadata": {
    "collapsed": true,
    "scrolled": true
   },
   "outputs": [],
   "source": [
    "target_names = ['Died', 'Survived']\n",
    "def print_performance_metrics(title, model):\n",
    "    print('**', title, '**')\n",
    "    predictions = model.predict(test)\n",
    "    print(classification_report(predictions, test_survived, target_names=target_names))\n",
    "    plot_confusion_matrix(confusion_matrix(predictions, test_survived), classes=target_names)\n",
    "    plt.show()\n",
    "    print('Test Accuracy:', model.score(test, test_survived), '\\n')"
   ]
  },
  {
   "cell_type": "code",
   "execution_count": 21,
   "metadata": {
    "scrolled": false
   },
   "outputs": [
    {
     "name": "stdout",
     "output_type": "stream",
     "text": [
      "** Random Forest **\n",
      "             precision    recall  f1-score   support\n",
      "\n",
      "       Died       0.85      0.80      0.83       138\n",
      "   Survived       0.71      0.78      0.74        85\n",
      "\n",
      "avg / total       0.80      0.79      0.80       223\n",
      "\n"
     ]
    },
    {
     "data": {
      "image/png": "[encoded data removed]",
      "text/plain": [
       "<matplotlib.figure.Figure at 0x11dd05898>"
      ]
     },
     "metadata": {},
     "output_type": "display_data"
    },
    {
     "name": "stdout",
     "output_type": "stream",
     "text": [
      "Test Accuracy: 0.793721973094 \n",
      "\n",
      "** AdaBoost + RandomForest **\n",
      "             precision    recall  f1-score   support\n",
      "\n",
      "       Died       0.92      0.83      0.87       143\n",
      "   Survived       0.74      0.86      0.80        80\n",
      "\n",
      "avg / total       0.85      0.84      0.85       223\n",
      "\n"
     ]
    },
    {
     "data": {
      "image/png": "[encoded data removed]",
      "text/plain": [
       "<matplotlib.figure.Figure at 0x11de27ac8>"
      ]
     },
     "metadata": {},
     "output_type": "display_data"
    },
    {
     "name": "stdout",
     "output_type": "stream",
     "text": [
      "Test Accuracy: 0.843049327354 \n",
      "\n"
     ]
    }
   ],
   "source": [
    "print_performance_metrics('Random Forest', rf)\n",
    "print_performance_metrics('AdaBoost + RandomForest', boost)"
   ]
  },
  {
   "cell_type": "markdown",
   "metadata": {},
   "source": [
    "## D. Predictions\n",
    "\n",
    "We conclude by showing how to export a Pandas DataFrame to CSV file."
   ]
  },
  {
   "cell_type": "code",
   "execution_count": 22,
   "metadata": {
    "collapsed": true,
    "scrolled": true
   },
   "outputs": [],
   "source": [
    "predictions = pd.DataFrame({'PassengerId': passengerIds})\n",
    "predictions['Survived'] = pd.Series(list(map(int, boost.predict(make_predictions))))\n",
    "predictions.to_csv('output.csv', index=False)"
   ]
  },
  {
   "cell_type": "markdown",
   "metadata": {
    "collapsed": true
   },
   "source": [
    "The actual accuracy as scored by Kaggle was 0.78468."
   ]
  }
 ],
 "metadata": {
  "kernelspec": {
   "display_name": "Python 3",
   "language": "python",
   "name": "python3"
  },
  "language_info": {
   "codemirror_mode": {
    "name": "ipython",
    "version": 3
   },
   "file_extension": ".py",
   "mimetype": "text/x-python",
   "name": "python",
   "nbconvert_exporter": "python",
   "pygments_lexer": "ipython3",
   "version": "3.5.4"
  }
 },
 "nbformat": 4,
 "nbformat_minor": 2
}
